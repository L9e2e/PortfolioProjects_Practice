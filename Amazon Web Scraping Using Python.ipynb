{
 "cells": [
  {
   "cell_type": "code",
   "execution_count": 1,
   "id": "69d9a823",
   "metadata": {},
   "outputs": [],
   "source": [
    "#importing libraries\n",
    "from bs4 import BeautifulSoup\n",
    "import requests\n",
    "import smtplib\n",
    "import time\n",
    "import datetime\n",
    "import pandas as pd"
   ]
  },
  {
   "cell_type": "code",
   "execution_count": 2,
   "id": "4bc1e17a",
   "metadata": {},
   "outputs": [
    {
     "name": "stdout",
     "output_type": "stream",
     "text": [
      "\n",
      "                    Ive Got The Power Bi Czarna Koszulka Unisex O Luźnym Kroju\n",
      "                   \n",
      "\n",
      "                       106,99zł\n",
      "                      \n",
      "\n",
      "                     Czarny\n",
      "                    \n"
     ]
    }
   ],
   "source": [
    "#Connecting do website\n",
    "URL = 'https://www.amazon.pl/Power-Czarna-Koszulka-Unisex-Lu%C5%BAnym/dp/B0DMWK9X5W?crid=1PFQJAR99AY1D&dib=eyJ2IjoiMSJ9.BZ9GU-e_nsJbusSCS57UmPZ9LgdIE1mriB5uekB5C9vZrM2EwrzkklOO8-AOgysOI7POmCt2KyFnKYq8vx66lhspeRTHbz-9IirxS_pxKI_afACI2kIOu2j4GdaO2cqbkMJieIvzDH_cMPUciM7DCEuAaPvD98ye95ptGwIiyUaGsZwp-KuB7zDSglrorPCgKKLm_WGs2ou5Iknlmv7KL3RE89mUWIMht7BUUmqeqf_zRhu93xM1iCH_M8NbJRWkuS9C6HOaIyIXI6FGkGZeMa7X24scDnicE563oCKC9DM.0mirq3QlKRbNdCvYdrSMGvHfOqZ7eyYhNxkadFQ5QaY&dib_tag=se&keywords=got+data+shirt&qid=1732944907&sprefix=got+data%2Caps%2C90&sr=8-12'\n",
    "\n",
    "headers = {\"User-Agent\": \"Mozilla/5.0 (Windows NT 10.0; Win64; x64; rv:124.0) Gecko/20100101 Firefox/124.0\"}\n",
    "\n",
    "page = requests.get(URL, headers = headers)\n",
    "\n",
    "soup1 = BeautifulSoup(page.content, \"html.parser\")\n",
    "\n",
    "soup2 = BeautifulSoup(soup1.prettify(), \"html.parser\")\n",
    "\n",
    "title = soup2.find(id = 'productTitle').get_text()\n",
    "\n",
    "price = soup2.find('span', class_ = 'a-offscreen').get_text()\n",
    "\n",
    "color = soup2.find('span', class_ = 'selection').get_text()\n",
    "\n",
    "print(title)\n",
    "print(price)\n",
    "print(color)\n"
   ]
  },
  {
   "cell_type": "code",
   "execution_count": 3,
   "id": "cf3b89de",
   "metadata": {},
   "outputs": [
    {
     "name": "stdout",
     "output_type": "stream",
     "text": [
      "Ive Got The Power Bi Czarna Koszulka Unisex O Luźnym Kroju\n",
      "106,99\n",
      "Czarny\n",
      "2024-12-09\n"
     ]
    }
   ],
   "source": [
    "#Preparing the data\n",
    "price = price.strip().strip('zł')\n",
    "title = title.strip()\n",
    "color = color.strip()\n",
    "today = datetime.date.today()\n",
    "\n",
    "print(title)\n",
    "print(price)\n",
    "print(color)\n",
    "print(today)"
   ]
  },
  {
   "cell_type": "code",
   "execution_count": 4,
   "id": "5572e8e0",
   "metadata": {},
   "outputs": [],
   "source": [
    "#Creating the CSV file\n",
    "import csv\n",
    "\n",
    "header = ['Title', 'Price', 'Color', 'Date']\n",
    "data = [title, price, color, today]\n",
    "\n",
    "with open('AmazonWebScraperDataset.csv', 'w', newline='', encoding='UTF8') as f:\n",
    "    writer = csv.writer(f)\n",
    "    writer.writerow(header)\n",
    "    writer.writerow(data)"
   ]
  },
  {
   "cell_type": "code",
   "execution_count": 32,
   "id": "edcc4257",
   "metadata": {},
   "outputs": [
    {
     "name": "stdout",
     "output_type": "stream",
     "text": [
      "                                                Title   Price   Color  \\\n",
      "0   Ive Got The Power Bi Czarna Koszulka Unisex O ...  106,99  Czarny   \n",
      "1   Ive Got The Power Bi Czarna Koszulka Unisex O ...  106,99  Czarny   \n",
      "2   Ive Got The Power Bi Czarna Koszulka Unisex O ...  106,99  Czarny   \n",
      "3   Ive Got The Power Bi Czarna Koszulka Unisex O ...  106,99  Czarny   \n",
      "4   Ive Got The Power Bi Czarna Koszulka Unisex O ...  106,99  Czarny   \n",
      "5   Ive Got The Power Bi Czarna Koszulka Unisex O ...  106,99  Czarny   \n",
      "6   Ive Got The Power Bi Czarna Koszulka Unisex O ...  106,99  Czarny   \n",
      "7   Ive Got The Power Bi Czarna Koszulka Unisex O ...  106,99  Czarny   \n",
      "8   Ive Got The Power Bi Czarna Koszulka Unisex O ...  106,99  Czarny   \n",
      "9   Ive Got The Power Bi Czarna Koszulka Unisex O ...  106,99  Czarny   \n",
      "10  Ive Got The Power Bi Czarna Koszulka Unisex O ...  106,99  Czarny   \n",
      "\n",
      "          Date  \n",
      "0   2024-12-09  \n",
      "1   2024-12-09  \n",
      "2   2024-12-09  \n",
      "3   2024-12-09  \n",
      "4   2024-12-09  \n",
      "5   2024-12-09  \n",
      "6   2024-12-09  \n",
      "7   2024-12-09  \n",
      "8   2024-12-09  \n",
      "9   2024-12-09  \n",
      "10  2024-12-09  \n"
     ]
    }
   ],
   "source": [
    "#Printing the CSV file in console\n",
    "df = pd.read_csv(r'C:\\Users\\Leszek\\AmazonWebScraperDataset.csv')\n",
    "print(df)"
   ]
  },
  {
   "cell_type": "code",
   "execution_count": 25,
   "id": "69aa4d6f",
   "metadata": {},
   "outputs": [],
   "source": [
    "#Appending data to the CSV file\n",
    "with open('AmazonWebScraperDataset.csv', 'a+', newline='', encoding='UTF8') as f:\n",
    "    writer = csv.writer(f)\n",
    "    writer.writerow(data)"
   ]
  },
  {
   "cell_type": "code",
   "execution_count": 8,
   "id": "b190053c",
   "metadata": {},
   "outputs": [],
   "source": [
    "#Combine all of the above code into one function\n",
    "\n",
    "def check_price():\n",
    "    \n",
    "    from bs4 import BeautifulSoup\n",
    "    import requests\n",
    "    import smtplib\n",
    "    import time\n",
    "    import datetime\n",
    "    import pandas as pd\n",
    "    import csv\n",
    "    \n",
    "    URL = 'https://www.amazon.pl/Power-Czarna-Koszulka-Unisex-Lu%C5%BAnym/dp/B0DMWK9X5W?crid=1PFQJAR99AY1D&dib=eyJ2IjoiMSJ9.BZ9GU-e_nsJbusSCS57UmPZ9LgdIE1mriB5uekB5C9vZrM2EwrzkklOO8-AOgysOI7POmCt2KyFnKYq8vx66lhspeRTHbz-9IirxS_pxKI_afACI2kIOu2j4GdaO2cqbkMJieIvzDH_cMPUciM7DCEuAaPvD98ye95ptGwIiyUaGsZwp-KuB7zDSglrorPCgKKLm_WGs2ou5Iknlmv7KL3RE89mUWIMht7BUUmqeqf_zRhu93xM1iCH_M8NbJRWkuS9C6HOaIyIXI6FGkGZeMa7X24scDnicE563oCKC9DM.0mirq3QlKRbNdCvYdrSMGvHfOqZ7eyYhNxkadFQ5QaY&dib_tag=se&keywords=got+data+shirt&qid=1732944907&sprefix=got+data%2Caps%2C90&sr=8-12'\n",
    "\n",
    "    headers = {\"User-Agent\": \"Mozilla/5.0 (Windows NT 10.0; Win64; x64; rv:124.0) Gecko/20100101 Firefox/124.0\"}\n",
    "\n",
    "    page = requests.get(URL, headers=headers)\n",
    "\n",
    "    soup1 = BeautifulSoup(page.content, \"html.parser\")\n",
    "\n",
    "    soup2 = BeautifulSoup(soup1.prettify(), \"html.parser\")\n",
    "\n",
    "    title = soup2.find(id='productTitle').get_text()\n",
    "\n",
    "    price = soup2.find('span', class_ = 'a-offscreen').get_text()\n",
    "\n",
    "    color = soup2.find('span', class_ = 'selection').get_text()\n",
    "\n",
    "\n",
    "    price = price.strip().strip('zł')\n",
    "    title = title.strip()\n",
    "    color = color.strip()\n",
    "    today = datetime.date.today()\n",
    "\n",
    "    today = datetime.date.today()\n",
    "    \n",
    "\n",
    "    header = ['Title', 'Price', 'Color', 'Date']\n",
    "    data = [title, price, color, today]\n",
    "\n",
    "    with open('AmazonWebScraperDataset.csv', 'a+', newline='', encoding='UTF8') as f:\n",
    "        writer = csv.writer(f)\n",
    "        writer.writerow(data)"
   ]
  },
  {
   "cell_type": "code",
   "execution_count": 33,
   "id": "497f9510",
   "metadata": {},
   "outputs": [
    {
     "ename": "AttributeError",
     "evalue": "'NoneType' object has no attribute 'get_text'",
     "output_type": "error",
     "traceback": [
      "\u001b[1;31m---------------------------------------------------------------------------\u001b[0m",
      "\u001b[1;31mAttributeError\u001b[0m                            Traceback (most recent call last)",
      "\u001b[1;32m~\\AppData\\Local\\Temp/ipykernel_15080/1264196498.py\u001b[0m in \u001b[0;36m<module>\u001b[1;34m\u001b[0m\n\u001b[0;32m      2\u001b[0m \u001b[1;33m\u001b[0m\u001b[0m\n\u001b[0;32m      3\u001b[0m \u001b[1;32mwhile\u001b[0m\u001b[1;33m(\u001b[0m\u001b[1;32mTrue\u001b[0m\u001b[1;33m)\u001b[0m\u001b[1;33m:\u001b[0m\u001b[1;33m\u001b[0m\u001b[1;33m\u001b[0m\u001b[0m\n\u001b[1;32m----> 4\u001b[1;33m     \u001b[0mcheck_price\u001b[0m\u001b[1;33m(\u001b[0m\u001b[1;33m)\u001b[0m\u001b[1;33m\u001b[0m\u001b[1;33m\u001b[0m\u001b[0m\n\u001b[0m\u001b[0;32m      5\u001b[0m     \u001b[0mtime\u001b[0m\u001b[1;33m.\u001b[0m\u001b[0msleep\u001b[0m\u001b[1;33m(\u001b[0m\u001b[1;36m86400\u001b[0m\u001b[1;33m)\u001b[0m\u001b[1;33m\u001b[0m\u001b[1;33m\u001b[0m\u001b[0m\n",
      "\u001b[1;32m~\\AppData\\Local\\Temp/ipykernel_15080/2033274049.py\u001b[0m in \u001b[0;36mcheck_price\u001b[1;34m()\u001b[0m\n\u001b[0;32m     21\u001b[0m     \u001b[0msoup2\u001b[0m \u001b[1;33m=\u001b[0m \u001b[0mBeautifulSoup\u001b[0m\u001b[1;33m(\u001b[0m\u001b[0msoup1\u001b[0m\u001b[1;33m.\u001b[0m\u001b[0mprettify\u001b[0m\u001b[1;33m(\u001b[0m\u001b[1;33m)\u001b[0m\u001b[1;33m,\u001b[0m \u001b[1;34m\"html.parser\"\u001b[0m\u001b[1;33m)\u001b[0m\u001b[1;33m\u001b[0m\u001b[1;33m\u001b[0m\u001b[0m\n\u001b[0;32m     22\u001b[0m \u001b[1;33m\u001b[0m\u001b[0m\n\u001b[1;32m---> 23\u001b[1;33m     \u001b[0mtitle\u001b[0m \u001b[1;33m=\u001b[0m \u001b[0msoup2\u001b[0m\u001b[1;33m.\u001b[0m\u001b[0mfind\u001b[0m\u001b[1;33m(\u001b[0m\u001b[0mid\u001b[0m\u001b[1;33m=\u001b[0m\u001b[1;34m'productTitle'\u001b[0m\u001b[1;33m)\u001b[0m\u001b[1;33m.\u001b[0m\u001b[0mget_text\u001b[0m\u001b[1;33m(\u001b[0m\u001b[1;33m)\u001b[0m\u001b[1;33m\u001b[0m\u001b[1;33m\u001b[0m\u001b[0m\n\u001b[0m\u001b[0;32m     24\u001b[0m \u001b[1;33m\u001b[0m\u001b[0m\n\u001b[0;32m     25\u001b[0m     \u001b[0mprice\u001b[0m \u001b[1;33m=\u001b[0m \u001b[0msoup2\u001b[0m\u001b[1;33m.\u001b[0m\u001b[0mfind\u001b[0m\u001b[1;33m(\u001b[0m\u001b[1;34m'span'\u001b[0m\u001b[1;33m,\u001b[0m \u001b[0mclass_\u001b[0m \u001b[1;33m=\u001b[0m \u001b[1;34m'a-offscreen'\u001b[0m\u001b[1;33m)\u001b[0m\u001b[1;33m.\u001b[0m\u001b[0mget_text\u001b[0m\u001b[1;33m(\u001b[0m\u001b[1;33m)\u001b[0m\u001b[1;33m\u001b[0m\u001b[1;33m\u001b[0m\u001b[0m\n",
      "\u001b[1;31mAttributeError\u001b[0m: 'NoneType' object has no attribute 'get_text'"
     ]
    }
   ],
   "source": [
    "#Runs check_price after a set time and inputs data into your CSV\n",
    "\n",
    "while(True):\n",
    "    check_price()\n",
    "    time.sleep(86400)"
   ]
  },
  {
   "cell_type": "code",
   "execution_count": 12,
   "id": "c6269f78",
   "metadata": {},
   "outputs": [],
   "source": [
    "#Sending an e-mail do myself"
   ]
  },
  {
   "cell_type": "code",
   "execution_count": 34,
   "id": "51cb9044",
   "metadata": {},
   "outputs": [],
   "source": [
    "def check_price_mail():\n",
    "    \n",
    "    from bs4 import BeautifulSoup\n",
    "    import requests\n",
    "    import smtplib\n",
    "    import time\n",
    "    import datetime\n",
    "    import pandas as pd\n",
    "    import csv\n",
    "    \n",
    "    URL = 'https://www.amazon.pl/Power-Czarna-Koszulka-Unisex-Lu%C5%BAnym/dp/B0DMWK9X5W?crid=1PFQJAR99AY1D&dib=eyJ2IjoiMSJ9.BZ9GU-e_nsJbusSCS57UmPZ9LgdIE1mriB5uekB5C9vZrM2EwrzkklOO8-AOgysOI7POmCt2KyFnKYq8vx66lhspeRTHbz-9IirxS_pxKI_afACI2kIOu2j4GdaO2cqbkMJieIvzDH_cMPUciM7DCEuAaPvD98ye95ptGwIiyUaGsZwp-KuB7zDSglrorPCgKKLm_WGs2ou5Iknlmv7KL3RE89mUWIMht7BUUmqeqf_zRhu93xM1iCH_M8NbJRWkuS9C6HOaIyIXI6FGkGZeMa7X24scDnicE563oCKC9DM.0mirq3QlKRbNdCvYdrSMGvHfOqZ7eyYhNxkadFQ5QaY&dib_tag=se&keywords=got+data+shirt&qid=1732944907&sprefix=got+data%2Caps%2C90&sr=8-12'\n",
    "\n",
    "    headers = {\"User-Agent\": \"Mozilla/5.0 (Windows NT 10.0; Win64; x64; rv:124.0) Gecko/20100101 Firefox/124.0\"}\n",
    "\n",
    "    page = requests.get(URL, headers=headers)\n",
    "\n",
    "    soup1 = BeautifulSoup(page.content, \"html.parser\")\n",
    "\n",
    "    soup2 = BeautifulSoup(soup1.prettify(), \"html.parser\")\n",
    "\n",
    "    title = soup2.find(id='productTitle').get_text()\n",
    "\n",
    "    price = soup2.find('span', class_ = 'a-offscreen').get_text()\n",
    "\n",
    "    color = soup2.find('span', class_ = 'selection').get_text()\n",
    "\n",
    "\n",
    "    price = price.strip().strip('zł')\n",
    "    title = title.strip()\n",
    "    color = color.strip()\n",
    "    today = datetime.date.today()\n",
    "\n",
    "    today = datetime.date.today()\n",
    "    \n",
    "\n",
    "    header = ['Title', 'Price', 'Color', 'Date']\n",
    "    data = [title, price, color, today]\n",
    "\n",
    "    with open('AmazonWebScraperDataset.csv', 'a+', newline='', encoding='UTF8') as f:\n",
    "        writer = csv.writer(f)\n",
    "        writer.writerow(data)\n",
    "    \n",
    "    if(price < 100):\n",
    "        send_mail()"
   ]
  },
  {
   "cell_type": "code",
   "execution_count": 35,
   "id": "7ab1821e",
   "metadata": {},
   "outputs": [
    {
     "ename": "AttributeError",
     "evalue": "'NoneType' object has no attribute 'get_text'",
     "output_type": "error",
     "traceback": [
      "\u001b[1;31m---------------------------------------------------------------------------\u001b[0m",
      "\u001b[1;31mAttributeError\u001b[0m                            Traceback (most recent call last)",
      "\u001b[1;32m~\\AppData\\Local\\Temp/ipykernel_15080/2191369809.py\u001b[0m in \u001b[0;36m<module>\u001b[1;34m\u001b[0m\n\u001b[0;32m      1\u001b[0m \u001b[1;32mwhile\u001b[0m\u001b[1;33m(\u001b[0m\u001b[1;32mTrue\u001b[0m\u001b[1;33m)\u001b[0m\u001b[1;33m:\u001b[0m\u001b[1;33m\u001b[0m\u001b[1;33m\u001b[0m\u001b[0m\n\u001b[1;32m----> 2\u001b[1;33m     \u001b[0mcheck_price_mail\u001b[0m\u001b[1;33m(\u001b[0m\u001b[1;33m)\u001b[0m\u001b[1;33m\u001b[0m\u001b[1;33m\u001b[0m\u001b[0m\n\u001b[0m\u001b[0;32m      3\u001b[0m     \u001b[0mtime\u001b[0m\u001b[1;33m.\u001b[0m\u001b[0msleep\u001b[0m\u001b[1;33m(\u001b[0m\u001b[1;36m86400\u001b[0m\u001b[1;33m)\u001b[0m\u001b[1;33m\u001b[0m\u001b[1;33m\u001b[0m\u001b[0m\n",
      "\u001b[1;32m~\\AppData\\Local\\Temp/ipykernel_15080/2464219415.py\u001b[0m in \u001b[0;36mcheck_price_mail\u001b[1;34m()\u001b[0m\n\u001b[0;32m     19\u001b[0m     \u001b[0msoup2\u001b[0m \u001b[1;33m=\u001b[0m \u001b[0mBeautifulSoup\u001b[0m\u001b[1;33m(\u001b[0m\u001b[0msoup1\u001b[0m\u001b[1;33m.\u001b[0m\u001b[0mprettify\u001b[0m\u001b[1;33m(\u001b[0m\u001b[1;33m)\u001b[0m\u001b[1;33m,\u001b[0m \u001b[1;34m\"html.parser\"\u001b[0m\u001b[1;33m)\u001b[0m\u001b[1;33m\u001b[0m\u001b[1;33m\u001b[0m\u001b[0m\n\u001b[0;32m     20\u001b[0m \u001b[1;33m\u001b[0m\u001b[0m\n\u001b[1;32m---> 21\u001b[1;33m     \u001b[0mtitle\u001b[0m \u001b[1;33m=\u001b[0m \u001b[0msoup2\u001b[0m\u001b[1;33m.\u001b[0m\u001b[0mfind\u001b[0m\u001b[1;33m(\u001b[0m\u001b[0mid\u001b[0m\u001b[1;33m=\u001b[0m\u001b[1;34m'productTitle'\u001b[0m\u001b[1;33m)\u001b[0m\u001b[1;33m.\u001b[0m\u001b[0mget_text\u001b[0m\u001b[1;33m(\u001b[0m\u001b[1;33m)\u001b[0m\u001b[1;33m\u001b[0m\u001b[1;33m\u001b[0m\u001b[0m\n\u001b[0m\u001b[0;32m     22\u001b[0m \u001b[1;33m\u001b[0m\u001b[0m\n\u001b[0;32m     23\u001b[0m     \u001b[0mprice\u001b[0m \u001b[1;33m=\u001b[0m \u001b[0msoup2\u001b[0m\u001b[1;33m.\u001b[0m\u001b[0mfind\u001b[0m\u001b[1;33m(\u001b[0m\u001b[1;34m'span'\u001b[0m\u001b[1;33m,\u001b[0m \u001b[0mclass_\u001b[0m \u001b[1;33m=\u001b[0m \u001b[1;34m'a-offscreen'\u001b[0m\u001b[1;33m)\u001b[0m\u001b[1;33m.\u001b[0m\u001b[0mget_text\u001b[0m\u001b[1;33m(\u001b[0m\u001b[1;33m)\u001b[0m\u001b[1;33m\u001b[0m\u001b[1;33m\u001b[0m\u001b[0m\n",
      "\u001b[1;31mAttributeError\u001b[0m: 'NoneType' object has no attribute 'get_text'"
     ]
    }
   ],
   "source": [
    "while(True):\n",
    "    check_price_mail()\n",
    "    time.sleep(86400)"
   ]
  },
  {
   "cell_type": "code",
   "execution_count": null,
   "id": "fd89683a",
   "metadata": {},
   "outputs": [],
   "source": [
    "def send_mail():\n",
    "    server = smtplib.SMTP_SSL('smtp.gmail.com',465)\n",
    "    server.ehlo()\n",
    "    #server.starttls()\n",
    "    server.ehlo()\n",
    "    server.login('dekiert.leszek@gmail.com','xxxxxxxxxxxxxx')\n",
    "    \n",
    "    subject = \"T-shirt jest teraz tańszy niż 100 zł!_cena\"\n",
    "    body = \"T-shirt jest teraz tańszy niż 100 zł!\"\n",
    "   \n",
    "    msg = f\"Temat: {subject}\\n\\n{body}\"\n",
    "    \n",
    "    server.sendmail(\n",
    "        'dekiert.leszek@gmail.com',\n",
    "        msg\n",
    "     \n",
    "    )"
   ]
  }
 ],
 "metadata": {
  "kernelspec": {
   "display_name": "Python 3 (ipykernel)",
   "language": "python",
   "name": "python3"
  },
  "language_info": {
   "codemirror_mode": {
    "name": "ipython",
    "version": 3
   },
   "file_extension": ".py",
   "mimetype": "text/x-python",
   "name": "python",
   "nbconvert_exporter": "python",
   "pygments_lexer": "ipython3",
   "version": "3.9.7"
  }
 },
 "nbformat": 4,
 "nbformat_minor": 5
}
